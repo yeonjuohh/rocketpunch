{
 "cells": [
  {
   "cell_type": "markdown",
   "metadata": {},
   "source": [
    "# 1. Set up"
   ]
  },
  {
   "cell_type": "code",
   "execution_count": 1,
   "metadata": {
    "collapsed": true
   },
   "outputs": [],
   "source": [
    "## Import library\n",
    "import os\n",
    "import warnings\n",
    "\n",
    "import numpy as np\n",
    "import pandas as pd\n",
    "import matplotlib.pyplot as plt\n",
    "\n",
    "from sklearn.metrics import confusion_matrix\n",
    "from sklearn.model_selection import GridSearchCV\n",
    "from sklearn.ensemble import RandomForestClassifier\n",
    "\n",
    "warnings.filterwarnings('ignore')\n",
    "\n",
    "## Set working directory\n",
    "os.chdir('/Users/yeonju/Desktop/로켓펀치/ham-spam')\n"
   ]
  },
  {
   "cell_type": "code",
   "execution_count": 2,
   "metadata": {},
   "outputs": [
    {
     "data": {
      "text/html": [
       "<div>\n",
       "<style scoped>\n",
       "    .dataframe tbody tr th:only-of-type {\n",
       "        vertical-align: middle;\n",
       "    }\n",
       "\n",
       "    .dataframe tbody tr th {\n",
       "        vertical-align: top;\n",
       "    }\n",
       "\n",
       "    .dataframe thead th {\n",
       "        text-align: right;\n",
       "    }\n",
       "</style>\n",
       "<table border=\"1\" class=\"dataframe\">\n",
       "  <thead>\n",
       "    <tr style=\"text-align: right;\">\n",
       "      <th></th>\n",
       "      <th>blog</th>\n",
       "      <th>can_military_service</th>\n",
       "      <th>cover</th>\n",
       "      <th>employee_count</th>\n",
       "      <th>exit_type</th>\n",
       "      <th>facebook</th>\n",
       "      <th>found_date</th>\n",
       "      <th>github</th>\n",
       "      <th>googleplus</th>\n",
       "      <th>instagram</th>\n",
       "      <th>...</th>\n",
       "      <th>num_nan</th>\n",
       "      <th>description_spam</th>\n",
       "      <th>description_ham</th>\n",
       "      <th>homepage_n</th>\n",
       "      <th>name_spam</th>\n",
       "      <th>name_ham</th>\n",
       "      <th>overview_n</th>\n",
       "      <th>overview_spam</th>\n",
       "      <th>overview_ham</th>\n",
       "      <th>pm_binary</th>\n",
       "    </tr>\n",
       "  </thead>\n",
       "  <tbody>\n",
       "    <tr>\n",
       "      <th>0</th>\n",
       "      <td>0</td>\n",
       "      <td>0</td>\n",
       "      <td>0</td>\n",
       "      <td>0</td>\n",
       "      <td>0</td>\n",
       "      <td>0</td>\n",
       "      <td>1</td>\n",
       "      <td>0</td>\n",
       "      <td>0</td>\n",
       "      <td>0</td>\n",
       "      <td>...</td>\n",
       "      <td>16</td>\n",
       "      <td>1</td>\n",
       "      <td>5</td>\n",
       "      <td>0</td>\n",
       "      <td>0</td>\n",
       "      <td>1</td>\n",
       "      <td>0</td>\n",
       "      <td>0</td>\n",
       "      <td>0</td>\n",
       "      <td>0</td>\n",
       "    </tr>\n",
       "    <tr>\n",
       "      <th>1</th>\n",
       "      <td>0</td>\n",
       "      <td>0</td>\n",
       "      <td>0</td>\n",
       "      <td>0</td>\n",
       "      <td>0</td>\n",
       "      <td>0</td>\n",
       "      <td>0</td>\n",
       "      <td>0</td>\n",
       "      <td>0</td>\n",
       "      <td>0</td>\n",
       "      <td>...</td>\n",
       "      <td>18</td>\n",
       "      <td>0</td>\n",
       "      <td>0</td>\n",
       "      <td>0</td>\n",
       "      <td>0</td>\n",
       "      <td>3</td>\n",
       "      <td>0</td>\n",
       "      <td>0</td>\n",
       "      <td>0</td>\n",
       "      <td>0</td>\n",
       "    </tr>\n",
       "    <tr>\n",
       "      <th>2</th>\n",
       "      <td>0</td>\n",
       "      <td>0</td>\n",
       "      <td>0</td>\n",
       "      <td>0</td>\n",
       "      <td>0</td>\n",
       "      <td>0</td>\n",
       "      <td>0</td>\n",
       "      <td>0</td>\n",
       "      <td>0</td>\n",
       "      <td>0</td>\n",
       "      <td>...</td>\n",
       "      <td>18</td>\n",
       "      <td>0</td>\n",
       "      <td>5</td>\n",
       "      <td>0</td>\n",
       "      <td>0</td>\n",
       "      <td>2</td>\n",
       "      <td>0</td>\n",
       "      <td>0</td>\n",
       "      <td>0</td>\n",
       "      <td>0</td>\n",
       "    </tr>\n",
       "    <tr>\n",
       "      <th>3</th>\n",
       "      <td>0</td>\n",
       "      <td>0</td>\n",
       "      <td>0</td>\n",
       "      <td>0</td>\n",
       "      <td>0</td>\n",
       "      <td>0</td>\n",
       "      <td>0</td>\n",
       "      <td>0</td>\n",
       "      <td>0</td>\n",
       "      <td>0</td>\n",
       "      <td>...</td>\n",
       "      <td>19</td>\n",
       "      <td>0</td>\n",
       "      <td>0</td>\n",
       "      <td>0</td>\n",
       "      <td>0</td>\n",
       "      <td>2</td>\n",
       "      <td>0</td>\n",
       "      <td>0</td>\n",
       "      <td>0</td>\n",
       "      <td>0</td>\n",
       "    </tr>\n",
       "    <tr>\n",
       "      <th>4</th>\n",
       "      <td>0</td>\n",
       "      <td>0</td>\n",
       "      <td>0</td>\n",
       "      <td>0</td>\n",
       "      <td>0</td>\n",
       "      <td>0</td>\n",
       "      <td>0</td>\n",
       "      <td>0</td>\n",
       "      <td>0</td>\n",
       "      <td>0</td>\n",
       "      <td>...</td>\n",
       "      <td>19</td>\n",
       "      <td>0</td>\n",
       "      <td>0</td>\n",
       "      <td>0</td>\n",
       "      <td>0</td>\n",
       "      <td>2</td>\n",
       "      <td>0</td>\n",
       "      <td>0</td>\n",
       "      <td>0</td>\n",
       "      <td>0</td>\n",
       "    </tr>\n",
       "  </tbody>\n",
       "</table>\n",
       "<p>5 rows × 29 columns</p>\n",
       "</div>"
      ],
      "text/plain": [
       "   blog  can_military_service  cover  employee_count  exit_type  facebook  \\\n",
       "0     0                     0      0               0          0         0   \n",
       "1     0                     0      0               0          0         0   \n",
       "2     0                     0      0               0          0         0   \n",
       "3     0                     0      0               0          0         0   \n",
       "4     0                     0      0               0          0         0   \n",
       "\n",
       "   found_date  github  googleplus  instagram    ...      num_nan  \\\n",
       "0           1       0           0          0    ...           16   \n",
       "1           0       0           0          0    ...           18   \n",
       "2           0       0           0          0    ...           18   \n",
       "3           0       0           0          0    ...           19   \n",
       "4           0       0           0          0    ...           19   \n",
       "\n",
       "   description_spam  description_ham  homepage_n  name_spam  name_ham  \\\n",
       "0                 1                5           0          0         1   \n",
       "1                 0                0           0          0         3   \n",
       "2                 0                5           0          0         2   \n",
       "3                 0                0           0          0         2   \n",
       "4                 0                0           0          0         2   \n",
       "\n",
       "   overview_n  overview_spam  overview_ham  pm_binary  \n",
       "0           0              0             0          0  \n",
       "1           0              0             0          0  \n",
       "2           0              0             0          0  \n",
       "3           0              0             0          0  \n",
       "4           0              0             0          0  \n",
       "\n",
       "[5 rows x 29 columns]"
      ]
     },
     "execution_count": 2,
     "metadata": {},
     "output_type": "execute_result"
    }
   ],
   "source": [
    "## Import data\n",
    "train = pd.read_csv('data.csv')\n",
    "test = pd.read_csv('test.csv')\n",
    "o_test = pd.read_csv('o_test.csv')\n",
    "\n",
    "train.head()\n"
   ]
  },
  {
   "cell_type": "code",
   "execution_count": 3,
   "metadata": {
    "collapsed": true
   },
   "outputs": [],
   "source": [
    "## One-hot encoding can_military_service variable\n",
    "one_hot = pd.get_dummies(train.can_military_service)\n",
    "one_hot.columns = ['can_military_service_0', 'can_military_service_1', 'can_military_service_2']\n",
    "\n",
    "train = train.drop('can_military_service', axis = 1)\n",
    "train = train.join(one_hot)\n",
    "\n",
    "one_hot = pd.get_dummies(test.can_military_service)\n",
    "one_hot.columns = ['can_military_service_0', 'can_military_service_1', 'can_military_service_2']\n",
    "\n",
    "test = test.drop('can_military_service', axis = 1)\n",
    "test = test.join(one_hot)\n",
    "\n",
    "one_hot = pd.get_dummies(o_test.can_military_service)\n",
    "one_hot.columns = ['can_military_service_0', 'can_military_service_1', 'can_military_service_2']\n",
    "\n",
    "o_test = o_test.drop('can_military_service', axis = 1)\n",
    "o_test = o_test.join(one_hot)\n"
   ]
  },
  {
   "cell_type": "code",
   "execution_count": 4,
   "metadata": {},
   "outputs": [
    {
     "name": "stdout",
     "output_type": "stream",
     "text": [
      "(41799, 31)\n",
      "(13934, 31)\n",
      "(13933, 31)\n"
     ]
    }
   ],
   "source": [
    "## Divide test into validation, and test\n",
    "zero = test[test['spam'] == 0]\n",
    "one = test[test['spam'] == 1]\n",
    "\n",
    "np.random.seed(1)\n",
    "zero = zero.sample(frac = 1)\n",
    "one = one.sample(frac = 1)\n",
    "\n",
    "valid = pd.concat([zero.iloc[:round(np.shape(zero)[0] * 0.5), :], one.iloc[:round(np.shape(one)[0] * 0.5), :]])\n",
    "test = pd.concat([zero.iloc[round(np.shape(zero)[0] * 0.5) : , :], one.iloc[round(np.shape(one)[0] * 0.5) : , :]])\n",
    "\n",
    "np.random.seed(1)\n",
    "valid = valid.sample(frac = 1)\n",
    "test = test.sample(frac = 1)\n",
    "\n",
    "print(np.shape(train))\n",
    "print(np.shape(valid))\n",
    "print(np.shape(test))"
   ]
  },
  {
   "cell_type": "code",
   "execution_count": 5,
   "metadata": {
    "collapsed": true
   },
   "outputs": [],
   "source": [
    "## Standardize variable\n",
    "# view_count\n",
    "train.view_count = (train.view_count - min(train.view_count)) / (max(train.view_count) - min(train.view_count))\n",
    "valid.view_count = (valid.view_count - min(valid.view_count)) / (max(valid.view_count) - min(valid.view_count))\n",
    "test.view_count = (test.view_count - min(test.view_count)) / (max(test.view_count) - min(test.view_count))\n",
    "o_test.view_count = (o_test.view_count - min(o_test.view_count)) / (max(o_test.view_count) - min(test.view_count))\n",
    "\n",
    "# description_spam, description_ham\n",
    "train.description_spam = (train.description_spam - min(train.description_spam)) / (max(train.description_spam) - min(train.description_spam))\n",
    "valid.description_spam = (valid.description_spam - min(valid.description_spam)) / (max(valid.description_spam) - min(valid.description_spam))\n",
    "test.description_spam = (test.description_spam - min(test.description_spam)) / (max(test.description_spam) - min(test.description_spam))\n",
    "\n",
    "train.description_ham = (train.description_ham - min(train.description_ham)) / (max(train.description_ham) - min(train.description_ham))\n",
    "valid.description_ham = (valid.description_ham - min(valid.description_ham)) / (max(valid.description_ham) - min(valid.description_ham))\n",
    "test.description_ham = (test.description_ham - min(test.description_ham)) / (max(test.description_ham) - min(test.description_ham))\n",
    "\n",
    "# name_spam, name_ham\n",
    "train.name_spam = (train.name_spam - min(train.name_spam)) / (max(train.name_spam) - min(train.name_spam))\n",
    "valid.name_spam = (valid.name_spam - min(valid.name_spam)) / (max(valid.name_spam) - min(valid.name_spam))\n",
    "test.name_spam = (test.name_spam - min(test.name_spam)) / (max(test.name_spam) - min(test.name_spam))\n",
    "\n",
    "train.name_ham = (train.name_ham - min(train.name_ham)) / (max(train.name_ham) - min(train.name_ham))\n",
    "valid.name_ham = (valid.name_ham - min(valid.name_ham)) / (max(valid.name_ham) - min(valid.name_ham))\n",
    "test.name_ham = (test.name_ham - min(test.name_ham)) / (max(test.name_ham) - min(test.name_ham))\n",
    "\n",
    "# overview_spam, overview_ham, overview_n\n",
    "train.overview_spam = (train.overview_spam - min(train.overview_spam)) / (max(train.overview_spam) - min(train.overview_spam))\n",
    "valid.overview_spam = (valid.overview_spam - min(valid.overview_spam)) / (max(valid.overview_spam) - min(valid.overview_spam))\n",
    "test.overview_spam = (test.overview_spam - min(test.overview_spam)) / (max(test.overview_spam) - min(test.overview_spam))\n",
    "\n",
    "train.overview_ham = (train.overview_ham - min(train.overview_ham)) / (max(train.overview_ham) - min(train.overview_ham))\n",
    "valid.overview_ham = (valid.overview_ham - min(valid.overview_ham)) / (max(valid.overview_ham) - min(valid.overview_ham))\n",
    "test.overview_ham = (test.overview_ham - min(test.overview_ham)) / (max(test.overview_ham) - min(test.overview_ham))\n",
    "\n",
    "train.overview_n = (train.overview_n - min(train.overview_n)) / (max(train.overview_n) - min(train.overview_n))\n",
    "valid.overview_n = (valid.overview_n - min(valid.overview_n)) / (max(valid.overview_n) - min(valid.overview_n))\n",
    "test.overview_n = (test.overview_n - min(test.overview_n)) / (max(test.overview_n) - min(test.overview_n))\n",
    "\n",
    "# num_nan\n",
    "train.num_nan = (train.num_nan - min(train.num_nan)) / (max(train.num_nan) - min(train.num_nan))\n",
    "valid.num_nan = (valid.num_nan - min(valid.num_nan)) / (max(valid.num_nan) - min(valid.num_nan))\n",
    "test.num_nan = (test.num_nan - min(test.num_nan)) / (max(test.num_nan) - min(test.num_nan))\n",
    "o_test.num_nan = (o_test.num_nan - min(o_test.num_nan)) / (max(o_test.num_nan) - min(o_test.num_nan))\n",
    "\n",
    "# homepage_n\n",
    "train.homepage_n = (train.homepage_n - min(train.homepage_n)) / (max(train.homepage_n) - min(train.homepage_n))\n",
    "valid.homepage_n = (valid.homepage_n - min(valid.homepage_n)) / (max(valid.homepage_n) - min(valid.homepage_n))\n",
    "test.homepage_n = (test.homepage_n - min(test.homepage_n)) / (max(test.homepage_n) - min(test.homepage_n))\n"
   ]
  },
  {
   "cell_type": "code",
   "execution_count": 6,
   "metadata": {
    "collapsed": true
   },
   "outputs": [],
   "source": [
    "# Define x and y\n",
    "X_train = train.drop(columns = ['spam'])\n",
    "y_train = train.spam\n",
    "\n",
    "X_valid = valid.drop(columns = ['spam'])\n",
    "y_valid = valid.spam\n",
    "\n",
    "X_test = test.drop(columns = ['spam'])\n",
    "y_test = test.spam\n"
   ]
  },
  {
   "cell_type": "markdown",
   "metadata": {},
   "source": [
    "# 2. Model fitting"
   ]
  },
  {
   "cell_type": "markdown",
   "metadata": {},
   "source": [
    "## Random forest"
   ]
  },
  {
   "cell_type": "markdown",
   "metadata": {},
   "source": [
    "1. Hyperparameter tuning이 쉬움\n",
    "2. Computing time이 짧음\n",
    "3. Able to perform as well as more complex model"
   ]
  },
  {
   "cell_type": "markdown",
   "metadata": {},
   "source": [
    "### 1) n_estimators : number of tree"
   ]
  },
  {
   "cell_type": "code",
   "execution_count": 7,
   "metadata": {
    "collapsed": true
   },
   "outputs": [],
   "source": [
    "n_estimators_range = [25, 50, 100, 200, 400, 800, 1600]\n",
    "# decreasing n_estimators may result in overfitting\n",
    "\n",
    "train_score = []\n",
    "valid_score = []\n",
    "\n",
    "for n_estimators_val in n_estimators_range :\n",
    "    rf = RandomForestClassifier(random_state = 1,\n",
    "                                n_estimators = n_estimators_val)\n",
    "\n",
    "    rf = rf.fit(X_train, y_train)\n",
    "    rf_pred = rf.predict(X_train)\n",
    "    tab = confusion_matrix(y_train, rf_pred)\n",
    "    \n",
    "    rec = tab[1,1] / (tab[1,1] + tab[1,0])\n",
    "    pre = tab[1,1] / (tab[1,1] + tab[0,1])\n",
    "    f1 = (2 * rec * pre) / (rec + pre)\n",
    "    \n",
    "    train_score.append(f1) \n",
    "    \n",
    "    rf_pred = rf.predict(X_valid)\n",
    "    tab = confusion_matrix(y_valid, rf_pred)\n",
    "    \n",
    "    rec = tab[1,1] / (tab[1,1] + tab[1,0])\n",
    "    pre = tab[1,1] / (tab[1,1] + tab[0,1])\n",
    "    f1 = (2 * rec * pre) / (rec + pre)\n",
    "    \n",
    "    valid_score.append(f1) \n"
   ]
  },
  {
   "cell_type": "code",
   "execution_count": 8,
   "metadata": {},
   "outputs": [
    {
     "name": "stdout",
     "output_type": "stream",
     "text": [
      "Train score :  [0.8053, 0.8095, 0.8127, 0.8107, 0.8107, 0.8107, 0.8107]\n",
      "Valid score :  [0.184, 0.2095, 0.2074, 0.2207, 0.2145, 0.2183, 0.2199]\n"
     ]
    },
    {
     "data": {
      "image/png": "[encoded data removed]",
      "text/plain": [
       "<matplotlib.figure.Figure at 0x1199146d8>"
      ]
     },
     "metadata": {},
     "output_type": "display_data"
    }
   ],
   "source": [
    "print('Train score : ', [round(x, 4) for x in train_score])\n",
    "print('Valid score : ', [round(x, 4) for x in valid_score])\n",
    "\n",
    "plt.plot(train_score, color = 'black')\n",
    "plt.plot(valid_score, color = 'orange')\n",
    "\n",
    "plt.show()\n"
   ]
  },
  {
   "cell_type": "markdown",
   "metadata": {},
   "source": [
    "### 2) min_samples_leaf : minimum number of samples required to be at a leaf node"
   ]
  },
  {
   "cell_type": "code",
   "execution_count": 9,
   "metadata": {
    "collapsed": true
   },
   "outputs": [],
   "source": [
    "min_samples_leaf_range = [1, 2, 3, 4, 5, 6, 7, 8, 9, 10]\n",
    "# decreasing min_samples_leaf may result in overfitting\n",
    "\n",
    "train_score = []\n",
    "valid_score = []\n",
    "for min_samples_leaf_val in min_samples_leaf_range :\n",
    "\n",
    "    rf = RandomForestClassifier(random_state = 1,\n",
    "                                n_estimators = 200,\n",
    "                                min_samples_leaf = min_samples_leaf_val)\n",
    "\n",
    "    rf = rf.fit(X_train, y_train)\n",
    "    rf_pred = rf.predict(X_train)\n",
    "    tab = confusion_matrix(y_train, rf_pred)\n",
    "    \n",
    "    rec = tab[1,1] / (tab[1,1] + tab[1,0])\n",
    "    pre = tab[1,1] / (tab[1,1] + tab[0,1])\n",
    "    f1 = (2 * rec * pre) / (rec + pre)\n",
    "    \n",
    "    train_score.append(f1) \n",
    "    \n",
    "    rf_pred = rf.predict(X_valid)\n",
    "    tab = confusion_matrix(y_valid, rf_pred)\n",
    "    \n",
    "    rec = tab[1,1] / (tab[1,1] + tab[1,0])\n",
    "    pre = tab[1,1] / (tab[1,1] + tab[0,1])\n",
    "    f1 = (2 * rec * pre) / (rec + pre)\n",
    "    \n",
    "    valid_score.append(f1) \n"
   ]
  },
  {
   "cell_type": "code",
   "execution_count": 10,
   "metadata": {},
   "outputs": [
    {
     "name": "stdout",
     "output_type": "stream",
     "text": [
      "Train score :  [0.8107, 0.6331, 0.5723, 0.5287, 0.508, 0.4821, 0.4718, 0.4564, 0.46, 0.4377]\n",
      "Valid score :  [0.2207, 0.3313, 0.3624, 0.3889, 0.3688, 0.3824, 0.3333, 0.3385, 0.3115, 0.2927]\n"
     ]
    },
    {
     "data": {
      "image/png": "[encoded data removed]",
      "text/plain": [
       "<matplotlib.figure.Figure at 0x119fe2240>"
      ]
     },
     "metadata": {},
     "output_type": "display_data"
    }
   ],
   "source": [
    "print('Train score : ', [round(x, 4) for x in train_score])\n",
    "print('Valid score : ', [round(x, 4) for x in valid_score])\n",
    "\n",
    "plt.plot(train_score, color = 'black')\n",
    "plt.plot(valid_score, color = 'orange')\n",
    "\n",
    "plt.show()\n"
   ]
  },
  {
   "cell_type": "markdown",
   "metadata": {},
   "source": [
    "### 3) max_depth : maximum depth of the tree"
   ]
  },
  {
   "cell_type": "code",
   "execution_count": 11,
   "metadata": {
    "collapsed": true
   },
   "outputs": [],
   "source": [
    "max_depth_range = [20, 25, 30, 35, 40, 45, 50] \n",
    "# increasing max_depth may result in overfitting\n",
    "\n",
    "train_score = []\n",
    "valid_score = []\n",
    "for max_depth_val in max_depth_range :\n",
    "    rf = RandomForestClassifier(random_state = 1,\n",
    "                                n_estimators = 200,\n",
    "                                min_samples_leaf = 4,\n",
    "                                max_depth = max_depth_val)\n",
    "\n",
    "    rf = rf.fit(X_train, y_train)\n",
    "    rf_pred = rf.predict(X_train)\n",
    "    tab = confusion_matrix(y_train, rf_pred)\n",
    "    \n",
    "    rec = tab[1,1] / (tab[1,1] + tab[1,0])\n",
    "    pre = tab[1,1] / (tab[1,1] + tab[0,1])\n",
    "    f1 = (2 * rec * pre) / (rec + pre)\n",
    "    \n",
    "    train_score.append(f1) \n",
    "    \n",
    "    rf_pred = rf.predict(X_valid)\n",
    "    tab = confusion_matrix(y_valid, rf_pred)\n",
    "    \n",
    "    rec = tab[1,1] / (tab[1,1] + tab[1,0])\n",
    "    pre = tab[1,1] / (tab[1,1] + tab[0,1])\n",
    "    f1 = (2 * rec * pre) / (rec + pre)\n",
    "    \n",
    "    valid_score.append(f1) \n"
   ]
  },
  {
   "cell_type": "code",
   "execution_count": 12,
   "metadata": {},
   "outputs": [
    {
     "name": "stdout",
     "output_type": "stream",
     "text": [
      "Train score :  [0.5209, 0.5287, 0.5287, 0.5209, 0.5287, 0.5287, 0.5287]\n",
      "Valid score :  [0.3714, 0.3836, 0.381, 0.3776, 0.3889, 0.3889, 0.3889]\n"
     ]
    },
    {
     "data": {
      "image/png": "[encoded data removed]",
      "text/plain": [
       "<matplotlib.figure.Figure at 0x11a069470>"
      ]
     },
     "metadata": {},
     "output_type": "display_data"
    }
   ],
   "source": [
    "print('Train score : ', [round(x, 4) for x in train_score])\n",
    "print('Valid score : ', [round(x, 4) for x in valid_score])\n",
    "\n",
    "plt.plot(train_score, color = 'black')\n",
    "plt.plot(valid_score, color = 'orange')\n",
    "\n",
    "plt.show()\n"
   ]
  },
  {
   "cell_type": "markdown",
   "metadata": {},
   "source": [
    "### 4) max_features : number of features to consider for each split"
   ]
  },
  {
   "cell_type": "code",
   "execution_count": 13,
   "metadata": {
    "collapsed": true
   },
   "outputs": [],
   "source": [
    "max_features_range = [1, 5, 10, 15, 20] \n",
    "# increasing max_features may result in overfitting\n",
    "\n",
    "train_score = []\n",
    "valid_score = []\n",
    "for max_features_val in max_features_range :\n",
    "    rf = RandomForestClassifier(random_state = 1,\n",
    "                                n_estimators = 200,\n",
    "                                min_samples_leaf = 4,\n",
    "                                max_depth = 40,\n",
    "                                max_features = max_features_val)\n",
    "\n",
    "    rf = rf.fit(X_train, y_train)\n",
    "    \n",
    "    rf_pred = rf.predict(X_train)\n",
    "    tab = confusion_matrix(y_train, rf_pred)\n",
    "    \n",
    "    rec = tab[1,1] / (tab[1,1] + tab[1,0])\n",
    "    pre = tab[1,1] / (tab[1,1] + tab[0,1])\n",
    "    f1 = (2 * rec * pre) / (rec + pre)\n",
    "    \n",
    "    train_score.append(f1) \n",
    "    \n",
    "    rf_pred = rf.predict(X_valid)\n",
    "    tab = confusion_matrix(y_valid, rf_pred)\n",
    "    \n",
    "    rec = tab[1,1] / (tab[1,1] + tab[1,0])\n",
    "    pre = tab[1,1] / (tab[1,1] + tab[0,1])\n",
    "    f1 = (2 * rec * pre) / (rec + pre)\n",
    "    \n",
    "    valid_score.append(f1) \n"
   ]
  },
  {
   "cell_type": "code",
   "execution_count": 14,
   "metadata": {},
   "outputs": [
    {
     "name": "stdout",
     "output_type": "stream",
     "text": [
      "Train score :  [nan, 0.5287, 0.5854, 0.5928, 0.6279]\n",
      "Valid score :  [nan, 0.3889, 0.3392, 0.301, 0.2113]\n"
     ]
    },
    {
     "data": {
      "image/png": "[encoded data removed]",
      "text/plain": [
       "<matplotlib.figure.Figure at 0x111855f28>"
      ]
     },
     "metadata": {},
     "output_type": "display_data"
    }
   ],
   "source": [
    "print('Train score : ', [round(x, 4) for x in train_score])\n",
    "print('Valid score : ', [round(x, 4) for x in valid_score])\n",
    "\n",
    "plt.plot(train_score, color = 'black')\n",
    "plt.plot(valid_score, color = 'orange')\n",
    "\n",
    "plt.show()\n"
   ]
  },
  {
   "cell_type": "markdown",
   "metadata": {},
   "source": [
    "### 5) 10-folds cross validation"
   ]
  },
  {
   "cell_type": "code",
   "execution_count": 15,
   "metadata": {},
   "outputs": [
    {
     "name": "stdout",
     "output_type": "stream",
     "text": [
      "RandomForestClassifier(bootstrap=True, class_weight=None, criterion='gini',\n",
      "            max_depth=35, max_features=6, max_leaf_nodes=None,\n",
      "            min_impurity_split=1e-07, min_samples_leaf=3,\n",
      "            min_samples_split=2, min_weight_fraction_leaf=0.0,\n",
      "            n_estimators=100, n_jobs=1, oob_score=False, random_state=1,\n",
      "            verbose=0, warm_start=False)\n"
     ]
    },
    {
     "data": {
      "text/plain": [
       "array([[13325,   534],\n",
       "       [   40,    34]])"
      ]
     },
     "execution_count": 15,
     "metadata": {},
     "output_type": "execute_result"
    }
   ],
   "source": [
    "rf = RandomForestClassifier(random_state = 1)\n",
    "\n",
    "n_estimators_range = [100, 200] \n",
    "min_samples_leaf_range = [3, 4, 5]\n",
    "max_depth_range = [35, 40, 45] \n",
    "max_features_range = [4, 5, 6]\n",
    "\n",
    "param_grid = [{'n_estimators' : n_estimators_range,\n",
    "              'max_depth' : max_depth_range,\n",
    "              'min_samples_leaf' : min_samples_leaf_range,\n",
    "              'max_features' : max_features_range}]\n",
    "\n",
    "gs = GridSearchCV(estimator = rf,\n",
    "                  param_grid = param_grid,\n",
    "                  cv = 10,\n",
    "                  scoring = 'f1')\n",
    "\n",
    "gs = gs.fit(X_train, y_train)\n",
    "rf = gs.best_estimator_\n",
    "print(rf)\n",
    "\n",
    "rf_pred = rf.predict(X_test)\n",
    "confusion_matrix(y_test, rf_pred)\n"
   ]
  },
  {
   "cell_type": "markdown",
   "metadata": {},
   "source": [
    "# 3. 추가 분석"
   ]
  },
  {
   "cell_type": "markdown",
   "metadata": {},
   "source": [
    "## 1) Under sampling"
   ]
  },
  {
   "cell_type": "code",
   "execution_count": 16,
   "metadata": {
    "collapsed": true
   },
   "outputs": [],
   "source": [
    "under_range = [0.2, 0.4, 0.6, 0.8, 1]\n",
    "\n",
    "train_score = []\n",
    "valid_score = []\n",
    "for under_val in under_range :\n",
    "    zero = train[train['spam'] == 0]\n",
    "    one = train[train['spam'] == 1]\n",
    "\n",
    "    np.random.seed(1)\n",
    "    zero = zero.iloc[np.random.choice(np.shape(zero)[0], round(np.shape(zero)[0] * under_val)), :]\n",
    "\n",
    "    train_under_samp = pd.concat([one, zero])\n",
    "\n",
    "    X_train_under_samp = train_under_samp.drop(columns = ['spam'])\n",
    "    y_train_under_samp = train_under_samp.spam\n",
    "\n",
    "    rf = RandomForestClassifier(random_state = 1,\n",
    "                                n_estimators = 100,\n",
    "                                min_samples_leaf = 3,\n",
    "                                max_depth = 35,\n",
    "                                max_features = 6)\n",
    "    rf = rf.fit(X_train_under_samp, y_train_under_samp)\n",
    "    rf_pred = rf.predict(X_train_under_samp)\n",
    "    \n",
    "    tab = confusion_matrix(y_train_under_samp, rf_pred)\n",
    "    \n",
    "    rec = tab[1,1] / (tab[1,1] + tab[1,0])\n",
    "    pre = tab[1,1] / (tab[1,1] + tab[0,1])\n",
    "    f1 = (2 * rec * pre) / (rec + pre)\n",
    "    \n",
    "    train_score.append(f1) \n",
    "    \n",
    "    rf_pred = rf.predict(X_valid)\n",
    "    tab = confusion_matrix(y_valid, rf_pred)\n",
    "    \n",
    "    rec = tab[1,1] / (tab[1,1] + tab[1,0])\n",
    "    pre = tab[1,1] / (tab[1,1] + tab[0,1])\n",
    "    f1 = (2 * rec * pre) / (rec + pre)\n",
    "    \n",
    "    valid_score.append(f1) \n"
   ]
  },
  {
   "cell_type": "code",
   "execution_count": 17,
   "metadata": {},
   "outputs": [
    {
     "name": "stdout",
     "output_type": "stream",
     "text": [
      "Train score :  [0.6994, 0.6344, 0.6092, 0.5915, 0.575]\n",
      "Valid score :  [0.093, 0.2271, 0.299, 0.3187, 0.3171]\n"
     ]
    },
    {
     "data": {
      "image/png": "[encoded data removed]",
      "text/plain": [
       "<matplotlib.figure.Figure at 0x11e46c828>"
      ]
     },
     "metadata": {},
     "output_type": "display_data"
    }
   ],
   "source": [
    "print('Train score : ', [round(x, 4) for x in train_score])\n",
    "print('Valid score : ', [round(x, 4) for x in valid_score])\n",
    "\n",
    "plt.plot(train_score, color = 'black')\n",
    "plt.plot(valid_score, color = 'orange')\n",
    "\n",
    "plt.show()\n"
   ]
  },
  {
   "cell_type": "code",
   "execution_count": 18,
   "metadata": {},
   "outputs": [
    {
     "data": {
      "text/plain": [
       "array([[13227,   632],\n",
       "       [   40,    34]])"
      ]
     },
     "execution_count": 18,
     "metadata": {},
     "output_type": "execute_result"
    }
   ],
   "source": [
    "np.random.seed(1)\n",
    "zero = zero.iloc[np.random.choice(np.shape(zero)[0], round(np.shape(zero)[0] * 0.8)), :]\n",
    "\n",
    "train_under_samp = pd.concat([one, zero])\n",
    "\n",
    "X_train_under_samp = train_under_samp.drop(columns = ['spam'])\n",
    "y_train_under_samp = train_under_samp.spam\n",
    "\n",
    "rf = RandomForestClassifier(random_state = 1,\n",
    "                                n_estimators = 100,\n",
    "                                min_samples_leaf = 3,\n",
    "                                max_depth = 35,\n",
    "                                max_features = 6)\n",
    "rf = rf.fit(X_train_under_samp, y_train_under_samp)\n",
    "rf_pred = rf.predict(X_test)\n",
    "    \n",
    "confusion_matrix(y_test, rf_pred)\n"
   ]
  },
  {
   "cell_type": "markdown",
   "metadata": {},
   "source": [
    "sampling하여도 computing time이 크게 줄어들지 않고 오히려 f1이 낮아지기 때문에 전체 데이터를 사용하는 것이 더 나아보임"
   ]
  },
  {
   "cell_type": "markdown",
   "metadata": {},
   "source": [
    "## 2) Importance plot"
   ]
  },
  {
   "cell_type": "code",
   "execution_count": 19,
   "metadata": {},
   "outputs": [
    {
     "data": {
      "text/plain": [
       "blog                      0.0005\n",
       "cover                     0.0030\n",
       "employee_count            0.0008\n",
       "exit_type                 0.0080\n",
       "facebook                  0.0024\n",
       "found_date                0.0060\n",
       "github                    0.0000\n",
       "googleplus                0.0000\n",
       "instagram                 0.0027\n",
       "kakao_story               0.0000\n",
       "logo                      0.0115\n",
       "phone                     0.0048\n",
       "pinterest                 0.0000\n",
       "twitter                   0.0001\n",
       "view_count                0.1350\n",
       "yellow_id                 0.0000\n",
       "youtube                   0.0000\n",
       "num_nan                   0.0267\n",
       "description_spam          0.0741\n",
       "description_ham           0.0367\n",
       "homepage_n                0.0100\n",
       "name_spam                 0.3952\n",
       "name_ham                  0.0555\n",
       "overview_n                0.0116\n",
       "overview_spam             0.0159\n",
       "overview_ham              0.0091\n",
       "pm_binary                 0.1904\n",
       "can_military_service_0    0.0000\n",
       "can_military_service_1    0.0000\n",
       "can_military_service_2    0.0000\n",
       "dtype: float64"
      ]
     },
     "execution_count": 19,
     "metadata": {},
     "output_type": "execute_result"
    }
   ],
   "source": [
    "rf = RandomForestClassifier(random_state = 1,\n",
    "                            n_estimators = 100,\n",
    "                            min_samples_leaf = 3,\n",
    "                            max_depth = 35,\n",
    "                            max_features = 6)\n",
    "rf = rf.fit(X_train, y_train)\n",
    "\n",
    "importance = pd.Series([round(x, 4) for x in rf.feature_importances_], index = X_train.columns)\n",
    "importance"
   ]
  },
  {
   "cell_type": "code",
   "execution_count": 20,
   "metadata": {},
   "outputs": [
    {
     "data": {
      "image/png": "[encoded data removed]",
      "text/plain": [
       "<matplotlib.figure.Figure at 0x11e4b2ac8>"
      ]
     },
     "metadata": {},
     "output_type": "display_data"
    }
   ],
   "source": [
    "plt.figure(figsize=(8,6))\n",
    "\n",
    "importance.nlargest(10).plot(kind = 'barh')\n",
    "plt.xlabel('Importance')\n",
    "plt.ylabel('Variable')\n",
    "\n",
    "plt.rc('font', size = 15)\n",
    "\n",
    "plt.show()"
   ]
  },
  {
   "cell_type": "markdown",
   "metadata": {
    "collapsed": true
   },
   "source": [
    "## 3) Fitting random forest again"
   ]
  },
  {
   "cell_type": "code",
   "execution_count": 21,
   "metadata": {
    "collapsed": true
   },
   "outputs": [],
   "source": [
    "rf_b = RandomForestClassifier(random_state = 1,\n",
    "                            n_estimators = 100,\n",
    "                            min_samples_leaf = 3,\n",
    "                            max_depth = 35,\n",
    "                            max_features = 6)\n",
    "rf_b = rf_b.fit(X_train, y_train)\n",
    "\n",
    "rf_pred = rf_b.predict(X_train)\n",
    "\n",
    "one_idx = train[rf_pred == 1].index.tolist() \n",
    "X_train_one = X_train.loc[one_idx, :]\n",
    "y_train_one = y_train[one_idx]\n",
    "\n",
    "rf = RandomForestClassifier(random_state = 1)\n",
    "\n",
    "param_grid = [{'n_estimators' : [50, 100],\n",
    "              'max_depth' : [20, 30, 40],\n",
    "              'min_samples_leaf' : [1, 3, 5, 7],\n",
    "              'max_features' : [5, 10, 15, 20]}]\n",
    "gscv = GridSearchCV(estimator = rf,\n",
    "                  param_grid = param_grid,\n",
    "                  cv = 10,\n",
    "                  scoring = 'recall')\n",
    "\n",
    "gs = gscv.fit(X_train_one, y_train_one)\n",
    "rf_one = gs.best_estimator_\n",
    "\n",
    "zero_idx = train[rf_pred == 0].index.tolist() \n",
    "X_train_zero = X_train.loc[zero_idx, :]\n",
    "y_train_zero = y_train[zero_idx]\n",
    "\n",
    "gs = gscv.fit(X_train_zero, y_train_zero)\n",
    "rf_zero = gs.best_estimator_\n"
   ]
  },
  {
   "cell_type": "code",
   "execution_count": 22,
   "metadata": {},
   "outputs": [
    {
     "data": {
      "text/plain": [
       "array([[  0, 534],\n",
       "       [  0,  34]])"
      ]
     },
     "execution_count": 22,
     "metadata": {},
     "output_type": "execute_result"
    }
   ],
   "source": [
    "rf_pred = rf_b.predict(X_test)\n",
    "\n",
    "one_idx = test[rf_pred == 1].index.tolist() # spam이라고 예측한 test의 index\n",
    "X_test_one = X_test.loc[one_idx, :]\n",
    "y_test_one = y_test[one_idx]\n",
    "\n",
    "one_pred = rf_one.predict(X_test_one)\n",
    "\n",
    "confusion_matrix(y_test_one, one_pred)\n"
   ]
  },
  {
   "cell_type": "code",
   "execution_count": 23,
   "metadata": {},
   "outputs": [
    {
     "data": {
      "text/plain": [
       "array([[13288,    37],\n",
       "       [   38,     2]])"
      ]
     },
     "execution_count": 23,
     "metadata": {},
     "output_type": "execute_result"
    }
   ],
   "source": [
    "zero_idx = test[rf_pred == 0].index.tolist() # spam이라고 예측한 test의 index\n",
    "X_test_zero = X_test.loc[zero_idx, :]\n",
    "y_test_zero = y_test[zero_idx]\n",
    "\n",
    "zero_pred = rf_zero.predict(X_test_zero)\n",
    "\n",
    "confusion_matrix(y_test_zero, zero_pred)\n"
   ]
  },
  {
   "cell_type": "code",
   "execution_count": 24,
   "metadata": {
    "collapsed": true
   },
   "outputs": [],
   "source": [
    "test['f_pred'] = 0\n",
    "\n",
    "test.f_pred[one_idx] = one_pred\n",
    "test.f_pred[zero_idx] = zero_pred"
   ]
  },
  {
   "cell_type": "code",
   "execution_count": 25,
   "metadata": {},
   "outputs": [
    {
     "data": {
      "text/plain": [
       "array([[13288,   571],\n",
       "       [   38,    36]])"
      ]
     },
     "execution_count": 25,
     "metadata": {},
     "output_type": "execute_result"
    }
   ],
   "source": [
    "confusion_matrix(y_test, test.f_pred)"
   ]
  },
  {
   "cell_type": "markdown",
   "metadata": {},
   "source": [
    "recall은 높아졌지만 precision이 낮아짐"
   ]
  },
  {
   "cell_type": "markdown",
   "metadata": {},
   "source": [
    "# 4. Save result"
   ]
  },
  {
   "cell_type": "markdown",
   "metadata": {},
   "source": [
    "test 데이터에서 스팸인데 스팸이 아니라고 분류한 데이터"
   ]
  },
  {
   "cell_type": "code",
   "execution_count": 26,
   "metadata": {},
   "outputs": [
    {
     "name": "stdout",
     "output_type": "stream",
     "text": [
      "      blog                                      cover  \\\n",
      "21000  NaN                                        NaN   \n",
      "14285  NaN  company/17308/na-108_cover_1462369293.jpg   \n",
      "23899  NaN                                        NaN   \n",
      "1456   NaN                                        NaN   \n",
      "26288  NaN                                        NaN   \n",
      "\n",
      "                                             description  employee_count  \\\n",
      "21000                                                NaN             NaN   \n",
      "14285                                        3년내 Exit 목표             NaN   \n",
      "23899                                                NaN             NaN   \n",
      "1456   다양한 색깔의 사람들이 모여 문제를 가진 고객을 찾고 세상의 문제를 함께 고민하고 ...             NaN   \n",
      "26288                                                NaN             NaN   \n",
      "\n",
      "       exit_type facebook found_date github googleplus homepage  \\\n",
      "21000        NaN      NaN        NaN    NaN        NaN      NaN   \n",
      "14285        NaN      NaN        NaN    NaN        NaN      NaN   \n",
      "23899        NaN      NaN        NaN    NaN        NaN      NaN   \n",
      "1456         3.0      NaN        NaN    NaN        NaN      NaN   \n",
      "26288        NaN      NaN        NaN    NaN        NaN      NaN   \n",
      "\n",
      "                ...           pinterest twitter view_count yellow_id youtube  \\\n",
      "21000           ...                 NaN     NaN   0.000441       NaN     NaN   \n",
      "14285           ...                 NaN     NaN   0.004488       NaN     NaN   \n",
      "23899           ...                 NaN     NaN   0.000838       NaN     NaN   \n",
      "1456            ...                 NaN     NaN   0.005646       NaN     NaN   \n",
      "26288           ...                 NaN     NaN   0.002669       NaN     NaN   \n",
      "\n",
      "      spam   num_nan can_military_service_0 can_military_service_1  \\\n",
      "21000    1  0.933333                      1                      0   \n",
      "14285    1  0.733333                      1                      0   \n",
      "23899    1  0.933333                      1                      0   \n",
      "1456     1  0.733333                      1                      0   \n",
      "26288    1  0.933333                      1                      0   \n",
      "\n",
      "       can_military_service_2  \n",
      "21000                       0  \n",
      "14285                       0  \n",
      "23899                       0  \n",
      "1456                        0  \n",
      "26288                       0  \n",
      "\n",
      "[5 rows x 27 columns]\n"
     ]
    }
   ],
   "source": [
    "w_idx = test[np.logical_and(rf_b.predict(X_test) == 0, y_test == 1)].index.tolist()\n",
    "spam_no_spam = o_test.iloc[w_idx, :]\n",
    "print(spam_no_spam.head())\n",
    "\n",
    "spam_no_spam.to_csv('spam_no_spam.csv', encoding = 'utf-8', index = False)\n"
   ]
  },
  {
   "cell_type": "markdown",
   "metadata": {},
   "source": [
    "test 데이터에서 스팸이 아닌데 스팸이라고 분류한 데이터"
   ]
  },
  {
   "cell_type": "code",
   "execution_count": 27,
   "metadata": {},
   "outputs": [
    {
     "name": "stdout",
     "output_type": "stream",
     "text": [
      "      blog cover description  employee_count  exit_type facebook  found_date  \\\n",
      "12430  NaN   NaN         NaN             1.0        0.0      NaN  1997-01-01   \n",
      "20402  NaN   NaN         NaN             NaN        NaN      NaN         NaN   \n",
      "15197  NaN   NaN         NaN             NaN        NaN      NaN         NaN   \n",
      "1087   NaN   NaN         NaN             NaN        NaN      NaN         NaN   \n",
      "23771  NaN   NaN         NaN             NaN        NaN      NaN         NaN   \n",
      "\n",
      "      github googleplus                  homepage           ...            \\\n",
      "12430    NaN        NaN  http://www.systemever.kr           ...             \n",
      "20402    NaN        NaN                       NaN           ...             \n",
      "15197    NaN        NaN                       NaN           ...             \n",
      "1087     NaN        NaN                       NaN           ...             \n",
      "23771    NaN        NaN                       NaN           ...             \n",
      "\n",
      "      pinterest twitter view_count yellow_id youtube spam   num_nan  \\\n",
      "12430       NaN     NaN   0.009672       NaN     NaN    0  0.600000   \n",
      "20402       NaN     NaN   0.000165       NaN     NaN    0  0.933333   \n",
      "15197       NaN     NaN   0.000596       NaN     NaN    0  0.933333   \n",
      "1087        NaN     NaN   0.002018       NaN     NaN    0  0.933333   \n",
      "23771       NaN     NaN   0.000110       NaN     NaN    0  0.933333   \n",
      "\n",
      "      can_military_service_0 can_military_service_1  can_military_service_2  \n",
      "12430                      1                      0                       0  \n",
      "20402                      1                      0                       0  \n",
      "15197                      1                      0                       0  \n",
      "1087                       1                      0                       0  \n",
      "23771                      1                      0                       0  \n",
      "\n",
      "[5 rows x 27 columns]\n"
     ]
    }
   ],
   "source": [
    "w_idx = test[np.logical_and(rf_b.predict(X_test) == 1, y_test == 0)].index.tolist()\n",
    "no_spam_spam = o_test.iloc[w_idx, :]\n",
    "print(no_spam_spam.head())\n",
    "\n",
    "no_spam_spam.to_csv('no_spam_spam.csv', encoding = 'utf-8', index = False)\n"
   ]
  },
  {
   "cell_type": "code",
   "execution_count": 28,
   "metadata": {
    "collapsed": true
   },
   "outputs": [],
   "source": [
    "prediction = pd.DataFrame({'Index' : test.index,\n",
    "                           'Actual' : y_test,\n",
    "                           'Predict' : rf_b.predict(X_test)})\n",
    "prediction.to_csv('prediction.csv', encoding = 'utf-8', index = False)\n"
   ]
  }
 ],
 "metadata": {
  "kernelspec": {
   "display_name": "Python 3",
   "language": "python",
   "name": "python3"
  },
  "language_info": {
   "codemirror_mode": {
    "name": "ipython",
    "version": 3
   },
   "file_extension": ".py",
   "mimetype": "text/x-python",
   "name": "python",
   "nbconvert_exporter": "python",
   "pygments_lexer": "ipython3",
   "version": "3.6.1"
  }
 },
 "nbformat": 4,
 "nbformat_minor": 2
}
